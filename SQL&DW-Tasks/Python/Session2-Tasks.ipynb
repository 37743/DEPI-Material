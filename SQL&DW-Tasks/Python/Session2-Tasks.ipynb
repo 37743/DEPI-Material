{
 "cells": [
  {
   "cell_type": "code",
   "execution_count": 3,
   "metadata": {},
   "outputs": [
    {
     "name": "stdout",
     "output_type": "stream",
     "text": [
      "Welcome, Yousef\n",
      "The result of 12.0 / 5.0 is: 2.4\n",
      "The result of 5.0 + 2.0 is: 7.0\n",
      "Error: Invalid input. Please enter numbers only.\n"
     ]
    }
   ],
   "source": [
    "name = input(\"Please enter your name: \")\n",
    "\n",
    "print(\"Welcome,\", name)\n",
    "\n",
    "while True:\n",
    "    num1 = input(\"Enter the first number: \")\n",
    "    choice = input(\"Enter the operation (+ for addition, - for subtraction, * for multiplication, / for division): \")\n",
    "    num2 = input(\"Enter the second number: \")\n",
    "\n",
    "    if not num1.isdigit() or not num2.isdigit():\n",
    "        print(\"Error: Invalid input. Please enter numbers only.\")\n",
    "        continue\n",
    "\n",
    "    num1 = float(num1)\n",
    "    num2 = float(num2)\n",
    "\n",
    "    if choice == '+':\n",
    "        result = num1 + num2\n",
    "        print(f\"The result of {num1} + {num2} is:\", result)\n",
    "    elif choice == '-':\n",
    "        result = num1 - num2\n",
    "        print(f\"The result of {num1} - {num2} is:\", result)\n",
    "    elif choice == '*':\n",
    "        result = num1 * num2\n",
    "        print(f\"The result of {num1} * {num2} is:\", result)\n",
    "    elif choice == '/':\n",
    "        if num2 != 0:\n",
    "            result = num1 / num2\n",
    "            print(f\"The result of {num1} / {num2} is:\", result)\n",
    "        else:\n",
    "            print(\"Error: Division by zero\")\n",
    "    else:\n",
    "        print(\"Invalid choice.\")"
   ]
  },
  {
   "cell_type": "code",
   "execution_count": 2,
   "metadata": {},
   "outputs": [
    {
     "name": "stdout",
     "output_type": "stream",
     "text": [
      "It is a weekday.\n"
     ]
    }
   ],
   "source": [
    "import datetime\n",
    "\n",
    "day = input(\"Please enter a day: \")\n",
    "day = day.lower()\n",
    "\n",
    "if day == 'friday' or day == 'saturday':\n",
    "    print(\"It is a weekend.\")\n",
    "else:\n",
    "    print(\"It is a weekday.\")"
   ]
  },
  {
   "cell_type": "code",
   "execution_count": 3,
   "metadata": {},
   "outputs": [
    {
     "name": "stdout",
     "output_type": "stream",
     "text": [
      "Incorrect password. Please try again.\n",
      "Successful login.\n"
     ]
    }
   ],
   "source": [
    "internal_password = \"password37743\"\n",
    "attempts = 0\n",
    "\n",
    "while True:\n",
    "    password = input(\"Enter the password: \")\n",
    "    \n",
    "    if password == internal_password:\n",
    "        print(\"Successful login.\")\n",
    "        break\n",
    "    \n",
    "    attempts += 1\n",
    "    \n",
    "    if attempts >= 5:\n",
    "        print(\"Maximum attempts reached. Exiting...\")\n",
    "        break\n",
    "    else:\n",
    "        print(\"Incorrect password. Please try again.\")"
   ]
  },
  {
   "cell_type": "code",
   "execution_count": 8,
   "metadata": {},
   "outputs": [
    {
     "name": "stdout",
     "output_type": "stream",
     "text": [
      "Try lower.\n",
      "Congratulations! You guessed the correct number in 2 attempts.\n"
     ]
    }
   ],
   "source": [
    "import random\n",
    "\n",
    "randn = random.randint(1, 10)\n",
    "\n",
    "attempts = 1\n",
    "\n",
    "while True:\n",
    "    try:\n",
    "        guess = int(input(\"Guess a number between 1 and 10: \"))\n",
    "    except:\n",
    "        continue\n",
    "    if guess > 1 or guess < 10:\n",
    "        if guess == randn:\n",
    "            print(\"Congratulations! You guessed the correct number in\", attempts, \"attempts.\")\n",
    "            break\n",
    "\n",
    "        elif guess > randn:\n",
    "            print(\"Try lower.\")\n",
    "\n",
    "        else:\n",
    "            print(\"Try higher.\")\n",
    "        attempts += 1\n",
    "    else:\n",
    "        print(\"Error: Number out of bounds. Please enter a number between 1 and 10.\")\n",
    "        continue"
   ]
  },
  {
   "cell_type": "code",
   "execution_count": 9,
   "metadata": {},
   "outputs": [
    {
     "name": "stdout",
     "output_type": "stream",
     "text": [
      "Sum: 59\n",
      "Average: 11.8\n",
      "Maximum: 30\n",
      "Minimum: 4\n"
     ]
    }
   ],
   "source": [
    "my_list = [5, 8, 30, 12, 4]\n",
    "\n",
    "list_sum = sum(my_list)\n",
    "list_avg = sum(my_list) / len(my_list)\n",
    "list_max = max(my_list)\n",
    "list_min = min(my_list)\n",
    "\n",
    "print(\"Sum:\", list_sum)\n",
    "print(\"Average:\", list_avg)\n",
    "print(\"Maximum:\", list_max)\n",
    "print(\"Minimum:\", list_min)"
   ]
  },
  {
   "cell_type": "code",
   "execution_count": 11,
   "metadata": {},
   "outputs": [
    {
     "name": "stdout",
     "output_type": "stream",
     "text": [
      "Number of vowels in the string: 6\n"
     ]
    }
   ],
   "source": [
    "def count_vowels(string):\n",
    "    vowels = 'aeiou'\n",
    "    string = string.lower()\n",
    "    count = 0\n",
    "\n",
    "    for char in string:\n",
    "        if char in vowels:\n",
    "            count += 1\n",
    "\n",
    "    return count\n",
    "\n",
    "string = input(\"Enter a string: \")\n",
    "num_vowels = count_vowels(string)\n",
    "\n",
    "print(\"Number of vowels in the string:\", num_vowels)"
   ]
  }
 ],
 "metadata": {
  "kernelspec": {
   "display_name": "Python 3",
   "language": "python",
   "name": "python3"
  },
  "language_info": {
   "codemirror_mode": {
    "name": "ipython",
    "version": 3
   },
   "file_extension": ".py",
   "mimetype": "text/x-python",
   "name": "python",
   "nbconvert_exporter": "python",
   "pygments_lexer": "ipython3",
   "version": "3.12.4"
  }
 },
 "nbformat": 4,
 "nbformat_minor": 2
}
