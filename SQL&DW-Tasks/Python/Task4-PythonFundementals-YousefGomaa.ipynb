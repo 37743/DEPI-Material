{
 "cells": [
  {
   "cell_type": "markdown",
   "metadata": {},
   "source": [
    "## <center> Yousef Ibrahim Gomaa Mahmoud </center>\n",
    "\n",
    "### Python Fundementals - Task 4\n",
    "#### Student ID: 21052375\n",
    "---"
   ]
  },
  {
   "cell_type": "markdown",
   "metadata": {},
   "source": [
    "#### Question 1"
   ]
  },
  {
   "cell_type": "code",
   "execution_count": 4,
   "metadata": {},
   "outputs": [
    {
     "name": "stdout",
     "output_type": "stream",
     "text": [
      "Hello Ahmed, you are eligible to vote.\n",
      "Hello Yousef, you are eligible to vote.\n"
     ]
    }
   ],
   "source": [
    "def checkVote(username, age):\n",
    "    if age >= 18:\n",
    "        print(f\"Hello {str(username)}, you are eligible to vote.\")\n",
    "    else:\n",
    "        print(f\"Hello {str(username)}, you are not eligible to vote.\")\n",
    "\n",
    "checkVote(\"Ahmed\", 18)\n",
    "checkVote(\"Yousef\",21)"
   ]
  },
  {
   "cell_type": "markdown",
   "metadata": {},
   "source": [
    "#### Question 2"
   ]
  },
  {
   "cell_type": "code",
   "execution_count": 3,
   "metadata": {},
   "outputs": [
    {
     "name": "stdout",
     "output_type": "stream",
     "text": [
      "HI\n",
      "IM\n",
      "YOUSEF\n",
      "GOMAA\n"
     ]
    }
   ],
   "source": [
    "def printUpper():\n",
    "    sentence = input(\"Enter a sentence: \")\n",
    "    words = sentence.split()\n",
    "    for word in words:\n",
    "        print(word.upper())\n",
    "\n",
    "printUpper()"
   ]
  },
  {
   "cell_type": "markdown",
   "metadata": {},
   "source": [
    "#### Question 3"
   ]
  },
  {
   "cell_type": "code",
   "execution_count": 5,
   "metadata": {},
   "outputs": [
    {
     "name": "stdout",
     "output_type": "stream",
     "text": [
      "Employee Name: John Doe, Age: 30, Position: Software Developer\n"
     ]
    }
   ],
   "source": [
    "def displayEmployee(employee):\n",
    "    print(f\"Employee Name: {employee['name']}, Age: {employee['age']}, Position: {employee['position']}\")\n",
    "\n",
    "employee = { \"name\": \"John Doe\", \"age\": 30, \"position\": \"Software Developer\" }\n",
    "displayEmployee(employee)"
   ]
  },
  {
   "cell_type": "markdown",
   "metadata": {},
   "source": [
    "#### Question 4"
   ]
  },
  {
   "cell_type": "code",
   "execution_count": 8,
   "metadata": {},
   "outputs": [
    {
     "name": "stdout",
     "output_type": "stream",
     "text": [
      "50\n",
      "8\n",
      "9\n",
      "2\n",
      "182\n",
      "3\n",
      "1\n",
      "4\n",
      "93\n"
     ]
    }
   ],
   "source": [
    "def removeDuplicates():\n",
    "    nums = input(\"Kindly enter a list of numbers: \").split()\n",
    "    uniqueNums = list(set(nums))\n",
    "    for num in uniqueNums:\n",
    "        print(num)\n",
    "    \n",
    "removeDuplicates()"
   ]
  },
  {
   "cell_type": "markdown",
   "metadata": {},
   "source": [
    "#### Question 5"
   ]
  },
  {
   "cell_type": "code",
   "execution_count": 9,
   "metadata": {},
   "outputs": [
    {
     "name": "stdout",
     "output_type": "stream",
     "text": [
      "Alice\n",
      "Charlie\n"
     ]
    }
   ],
   "source": [
    "students = [\n",
    "    {\"name\": \"Alice\", \"grade\": 80},\n",
    "    {\"name\": \"Bob\", \"grade\": 65},\n",
    "    {\"name\": \"Charlie\", \"grade\": 90},\n",
    "    {\"name\": \"David\", \"grade\": 70}\n",
    "]\n",
    "\n",
    "def printStudent75(students):\n",
    "    for student in students:\n",
    "        if student['grade'] > 75:\n",
    "            print(student['name'])\n",
    "\n",
    "printStudent75(students)"
   ]
  },
  {
   "cell_type": "markdown",
   "metadata": {},
   "source": [
    "#### Question 6"
   ]
  },
  {
   "cell_type": "code",
   "execution_count": 11,
   "metadata": {},
   "outputs": [
    {
     "name": "stdout",
     "output_type": "stream",
     "text": [
      "{8, 3, 5}\n"
     ]
    }
   ],
   "source": [
    "def common_elements(tuple1, tuple2):\n",
    "    set1 = set(tuple1)\n",
    "    set2 = set(tuple2)\n",
    "    return set1.intersection(set2)\n",
    "\n",
    "set1 = (1, 3, 5, 8)\n",
    "set2 = (3, 5, 7, 8)\n",
    "\n",
    "print(common_elements(set1, set2))"
   ]
  },
  {
   "cell_type": "markdown",
   "metadata": {},
   "source": [
    "#### Question 7"
   ]
  },
  {
   "cell_type": "code",
   "execution_count": 13,
   "metadata": {},
   "outputs": [
    {
     "name": "stdout",
     "output_type": "stream",
     "text": [
      "List: [3, 19, 38, 29, 10, 48, 286, 40, 69, 81, 34, 57, 78]\n",
      "Set: {-60, -182, -53, -20, -692, -592, -12, -203, -423, -5, -2}\n"
     ]
    }
   ],
   "source": [
    "numList = []\n",
    "numSet = set()\n",
    "\n",
    "while True:\n",
    "    try:\n",
    "        num = int(input(\"Kindly enter a number (0 escape): \"))\n",
    "    except:\n",
    "        continue\n",
    "    \n",
    "    if num == 0:\n",
    "        break\n",
    "    \n",
    "    if num > 0:\n",
    "        numList.append(num)\n",
    "    else:\n",
    "        numSet.add(num)\n",
    "\n",
    "print(\"List:\", numList)\n",
    "print(\"Set:\", numSet)"
   ]
  },
  {
   "cell_type": "markdown",
   "metadata": {},
   "source": [
    "#### Question 8"
   ]
  },
  {
   "cell_type": "code",
   "execution_count": 15,
   "metadata": {},
   "outputs": [
    {
     "name": "stdout",
     "output_type": "stream",
     "text": [
      "The item 'cherry' is not available.\n"
     ]
    }
   ],
   "source": [
    "inventory = { \"apple\": 10, \"banana\": 5, \"cherry\": 0, \"date\": 7 }\n",
    "\n",
    "item = input(\"Enter item: \").lower()\n",
    "\n",
    "if item in inventory and inventory[item] > 0:\n",
    "    print(f\"The item '{item}' is available.\")\n",
    "else:\n",
    "    print(f\"The item '{item}' is not available.\")"
   ]
  },
  {
   "cell_type": "markdown",
   "metadata": {},
   "source": [
    "#### Question 9"
   ]
  },
  {
   "cell_type": "code",
   "execution_count": 22,
   "metadata": {},
   "outputs": [
    {
     "name": "stdout",
     "output_type": "stream",
     "text": [
      "Highest Score: 90\n",
      "Lowest Score: 68\n",
      "Average Score: 80.2\n",
      "Grade: B\n"
     ]
    }
   ],
   "source": [
    "def analyze_scores(scores):\n",
    "    highest_score = max(scores)\n",
    "    lowest_score = min(scores)\n",
    "    average_score = sum(scores) / len(scores)\n",
    "    \n",
    "    match average_score:\n",
    "        case score if score >= 90:\n",
    "            grade = 'A'\n",
    "        case score if score >= 80:\n",
    "            grade = 'B'\n",
    "        case score if score >= 70:\n",
    "            grade = 'C'\n",
    "        case score if score >= 60:\n",
    "            grade = 'D'\n",
    "        case _:\n",
    "            grade = 'F'\n",
    "    \n",
    "    return highest_score, lowest_score, average_score, grade\n",
    "\n",
    "scores = [90, 88, 75, 68, 80]\n",
    "highest, lowest, average, grade = analyze_scores(scores)\n",
    "\n",
    "print(f\"Highest Score: {highest}\", f\"Lowest Score: {lowest}\", f\"Average Score: {average}\", f\"Grade: {grade}\", sep=\"\\n\")"
   ]
  },
  {
   "cell_type": "markdown",
   "metadata": {},
   "source": [
    "#### Question 10"
   ]
  },
  {
   "cell_type": "code",
   "execution_count": 27,
   "metadata": {},
   "outputs": [
    {
     "name": "stdout",
     "output_type": "stream",
     "text": [
      "[2, 3, 5, 7]\n"
     ]
    }
   ],
   "source": [
    "def generated_primes(n, num=2):\n",
    "    if num > n:\n",
    "        return []\n",
    "    \n",
    "    is_prime = True\n",
    "    for i in range(2, int(num**0.5) + 1):\n",
    "        if num % i == 0:\n",
    "            is_prime = False\n",
    "            break\n",
    "    \n",
    "    if is_prime:\n",
    "        return [num]+generated_primes(n, num + 1)\n",
    "    else:\n",
    "        return generated_primes(n, num + 1)\n",
    "    \n",
    "print(generated_primes(10))"
   ]
  },
  {
   "cell_type": "markdown",
   "metadata": {},
   "source": [
    "#### Question 11"
   ]
  },
  {
   "cell_type": "code",
   "execution_count": 31,
   "metadata": {},
   "outputs": [
    {
     "name": "stdout",
     "output_type": "stream",
     "text": [
      "True\n",
      "False\n"
     ]
    }
   ],
   "source": [
    "def is_palindrome(string):\n",
    "    reversed_string = string[::-1]\n",
    "    return string == reversed_string\n",
    "\n",
    "print(is_palindrome(\"racecar\"))\n",
    "print(is_palindrome(\"hello\"))"
   ]
  },
  {
   "cell_type": "markdown",
   "metadata": {},
   "source": [
    "#### Question 12"
   ]
  },
  {
   "cell_type": "code",
   "execution_count": 34,
   "metadata": {},
   "outputs": [
    {
     "name": "stdout",
     "output_type": "stream",
     "text": [
      "ATM Menu:\n",
      "1. Check Balance\n",
      "2. Deposit Money\n",
      "3. Withdraw Money\n",
      "4. Exit\n",
      "Your current balance is $7560.5\n",
      "ATM Menu:\n",
      "1. Check Balance\n",
      "2. Deposit Money\n",
      "3. Withdraw Money\n",
      "4. Exit\n",
      "$500.0 has been deposited successfully.\n",
      "ATM Menu:\n",
      "1. Check Balance\n",
      "2. Deposit Money\n",
      "3. Withdraw Money\n",
      "4. Exit\n",
      "Your current balance is $8060.5\n",
      "ATM Menu:\n",
      "1. Check Balance\n",
      "2. Deposit Money\n",
      "3. Withdraw Money\n",
      "4. Exit\n",
      "$8000.0 has been withdrawn successfully.\n",
      "ATM Menu:\n",
      "1. Check Balance\n",
      "2. Deposit Money\n",
      "3. Withdraw Money\n",
      "4. Exit\n",
      "Exiting..\n"
     ]
    }
   ],
   "source": [
    "class ATM:\n",
    "    def __init__(self, balance=1000):\n",
    "        self.balance = balance\n",
    "\n",
    "    def checkBalance(self):\n",
    "        print(f\"Your current balance is ${self.balance}\")\n",
    "\n",
    "    def depositMoney(self, amount):\n",
    "        self.balance += amount\n",
    "        print(f\"${amount} has been deposited successfully.\")\n",
    "\n",
    "    def withdrawMoney(self, amount):\n",
    "        if amount > self.balance:\n",
    "            print(\"Insufficient balance.\")\n",
    "        else:\n",
    "            self.balance -= amount\n",
    "            print(f\"${amount} has been withdrawn successfully.\")\n",
    "\n",
    "    def run(self):\n",
    "        while True:\n",
    "            print(\"ATM Menu:\")\n",
    "            print(\"1. Check Balance\")\n",
    "            print(\"2. Deposit Money\")\n",
    "            print(\"3. Withdraw Money\")\n",
    "            print(\"4. Exit\")\n",
    "\n",
    "            choice = input(\"Enter your choice (1-4): \")\n",
    "\n",
    "            match choice:\n",
    "                case '1':\n",
    "                    self.checkBalance()\n",
    "                case '2':\n",
    "                    amount = float(input(\"Enter the amount to deposit: \"))\n",
    "                    self.depositMoney(amount)\n",
    "                case '3':\n",
    "                    amount = float(input(\"Enter the amount to withdraw: \"))\n",
    "                    self.withdrawMoney(amount)\n",
    "                case '4':\n",
    "                    print(\"Exiting..\")\n",
    "                    break\n",
    "                case _:\n",
    "                    print(\"Invalid choice.\")\n",
    "\n",
    "\n",
    "atm = ATM(balance=7560.50)\n",
    "\n",
    "atm.run()"
   ]
  }
 ],
 "metadata": {
  "kernelspec": {
   "display_name": "Python 3",
   "language": "python",
   "name": "python3"
  },
  "language_info": {
   "codemirror_mode": {
    "name": "ipython",
    "version": 3
   },
   "file_extension": ".py",
   "mimetype": "text/x-python",
   "name": "python",
   "nbconvert_exporter": "python",
   "pygments_lexer": "ipython3",
   "version": "3.12.4"
  }
 },
 "nbformat": 4,
 "nbformat_minor": 2
}
